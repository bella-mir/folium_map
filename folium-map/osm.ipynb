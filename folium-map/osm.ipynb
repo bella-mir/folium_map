{
 "cells": [
  {
   "cell_type": "markdown",
   "metadata": {},
   "source": [
    "## 1.2 Экспортируем из OSM\n"
   ]
  },
  {
   "cell_type": "markdown",
   "metadata": {},
   "source": [
    "В ооооочень большом числе проектов используются данные OpenStreetMap. Есть множество способов, как их оттуда экспортировать.\n",
    "\n",
    "Так как мы собираемся анализировать пространственные данные на Python, то и необходимые данные мы можем получить, не закрывая Jupyter Notebook. Для этого воспользуемся библиотекой OSMnx\n"
   ]
  },
  {
   "cell_type": "markdown",
   "metadata": {},
   "source": [
    "Для начала стоит определить территорию, на которую мы хотим получить данные. Пусть это будет Центральный район Санкт-Петербурга. Воспользуемся функцией geocode_to_gdf, чтобы получить границы района.\n"
   ]
  },
  {
   "cell_type": "code",
   "execution_count": null,
   "metadata": {},
   "outputs": [],
   "source": [
    "area = ox.geocode_to_gdf('Центральный район, Санкт-Петербург')"
   ]
  },
  {
   "cell_type": "markdown",
   "metadata": {},
   "source": [
    "Посмотрим, что мы получили (а еще в методе explore зададим параметр tiles и поменяем базовую карту OSM на Positron)\n"
   ]
  },
  {
   "cell_type": "code",
   "execution_count": null,
   "metadata": {},
   "outputs": [],
   "source": [
    "area.explore(tiles='cartodbpositron')"
   ]
  },
  {
   "cell_type": "markdown",
   "metadata": {},
   "source": [
    "Невероятно! Но это именно то, что нам нужно – границы Центрального района Санкт-Петербурга\n"
   ]
  },
  {
   "cell_type": "markdown",
   "metadata": {},
   "source": [
    "Теперь попробуем выгрузить здания для Центрального района. Для этого создадим переменную tags, куда передадим ключ нужных нам объектов - buildings.\n",
    "В функцию geometries_from_place передадим название района и теги объектов\n",
    "\n",
    "Подробнее о ключах и значениях данных OSM можно прочитать <a href=\"https://wiki.openstreetmap.org/wiki/Map_features\" target=\"_blank\">тут</a>\n"
   ]
  },
  {
   "cell_type": "code",
   "execution_count": null,
   "metadata": {},
   "outputs": [],
   "source": [
    "tags = {'building': True}   \n",
    "\n",
    "buildings = ox.features_from_place('Центральный район, Санкт-Петербург', tags)  #in the OSMnx versions before 1.7.0 use ox.geometries.geometries_from_place())\n",
    "\n",
    "buildings.explore(tiles='cartodbpositron',tooltip=None)"
   ]
  },
  {
   "cell_type": "markdown",
   "metadata": {},
   "source": [
    "Мы получили здания!\n",
    "\n",
    "Теперь выберем только полигональные (и мультиполигональные) объекты\n"
   ]
  },
  {
   "cell_type": "code",
   "execution_count": null,
   "metadata": {},
   "outputs": [],
   "source": [
    "buildings = buildings.loc[buildings.geom_type.isin(['Polygon', 'MultiPolygon'])]"
   ]
  },
  {
   "cell_type": "markdown",
   "metadata": {},
   "source": [
    "И смело можем сохранять!\n",
    "\n",
    "Спойлер – при сохранении возникнет ошибка, так как некоторые поля содержат данные в формате списка (list). Это не подходит для сохранения, поэтому мы это исправим: перезапишем поля как строки(string)\n"
   ]
  },
  {
   "cell_type": "code",
   "execution_count": null,
   "metadata": {},
   "outputs": [],
   "source": [
    "for col in buildings.columns:\n",
    "    if any(isinstance(val, list) for val in buildings[col]):\n",
    "        buildings = buildings.astype({col: str})"
   ]
  },
  {
   "cell_type": "markdown",
   "metadata": {},
   "source": [
    "И теперь точно можем сохранять!\n"
   ]
  },
  {
   "cell_type": "code",
   "execution_count": null,
   "metadata": {},
   "outputs": [],
   "source": [
    "#buildings.to_file('data/spb_central_build.geojson')"
   ]
  }
 ],
 "metadata": {
  "language_info": {
   "name": "python"
  }
 },
 "nbformat": 4,
 "nbformat_minor": 2
}
